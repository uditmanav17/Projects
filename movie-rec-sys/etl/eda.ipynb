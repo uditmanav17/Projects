{
 "cells": [
  {
   "cell_type": "markdown",
   "metadata": {},
   "source": [
    "## EDA for Content Based Recommendation System\n",
    "- [Source 1](https://github.com/ploomber/sql/blob/main/mini-projects/movie-rec-system/movie_rec_system/etl/eda.ipynb)\n",
    "- [Source 2](https://ploomber-sql.readthedocs.io/en/latest/mini-projects/recommendation-system/eda-with-jupyter.html)"
   ]
  },
  {
   "cell_type": "code",
   "execution_count": null,
   "metadata": {},
   "outputs": [],
   "source": [
    "%reload_ext sql\n",
    "%sql duckdb:///../movies_data.duckdb\n"
   ]
  },
  {
   "cell_type": "code",
   "execution_count": null,
   "metadata": {},
   "outputs": [],
   "source": [
    "%sqlcmd columns -t movies"
   ]
  },
  {
   "cell_type": "code",
   "execution_count": null,
   "metadata": {},
   "outputs": [],
   "source": [
    "%sqlcmd columns -t genres"
   ]
  },
  {
   "cell_type": "code",
   "execution_count": null,
   "metadata": {},
   "outputs": [],
   "source": [
    "%%sql\n",
    "SELECT *\n",
    "FROM movies\n",
    "LIMIT 3"
   ]
  },
  {
   "cell_type": "code",
   "execution_count": null,
   "metadata": {},
   "outputs": [],
   "source": [
    "%%sql\n",
    "SELECT *\n",
    "FROM genres\n",
    "LIMIT 2"
   ]
  },
  {
   "cell_type": "markdown",
   "metadata": {},
   "source": [
    "## Expanding genre name from id"
   ]
  },
  {
   "cell_type": "code",
   "execution_count": null,
   "metadata": {},
   "outputs": [],
   "source": [
    "%%sql\n",
    "WITH ExpandedGenres AS (\n",
    "    SELECT\n",
    "        m.id AS movie_id,\n",
    "        mg.movie_genre_id,\n",
    "        g.name AS genre_name\n",
    "    FROM\n",
    "        (SELECT UNNEST(movies.genre_ids) as movie_genre_id, movies.id FROM movies) AS mg\n",
    "    JOIN\n",
    "        movies m ON mg.id = m.id\n",
    "    JOIN\n",
    "        genres g ON mg.movie_genre_id = g.id\n",
    ")\n",
    "\n",
    "SELECT\n",
    "    movie_id,\n",
    "    STRING_AGG(genre_name, ', ') AS genre_names\n",
    "FROM\n",
    "    ExpandedGenres\n",
    "GROUP BY\n",
    "    movie_id;"
   ]
  },
  {
   "cell_type": "code",
   "execution_count": null,
   "metadata": {},
   "outputs": [],
   "source": [
    "%%sql\n",
    "CREATE TABLE IF NOT EXISTS movie_genre_data AS\n",
    "WITH ExpandedGenres AS (\n",
    "    SELECT\n",
    "        m.id AS movie_id,\n",
    "        mg.movie_genre_id,\n",
    "        g.name AS genre_name\n",
    "    FROM\n",
    "        (SELECT UNNEST(movies.genre_ids) as movie_genre_id, movies.id FROM movies) AS mg\n",
    "    JOIN\n",
    "        movies m ON mg.id = m.id\n",
    "    JOIN\n",
    "        genres g ON mg.movie_genre_id = g.id\n",
    "),\n",
    "genre_names AS (\n",
    "    SELECT\n",
    "    movie_id,\n",
    "    STRING_AGG(genre_name, ', ') AS genre_names\n",
    "FROM\n",
    "    ExpandedGenres\n",
    "GROUP BY\n",
    "    movie_id\n",
    ")\n",
    "SELECT gn.genre_names, m.id, m.original_language,\n",
    "       m.overview, m.popularity, m.release_date,\n",
    "       m.title, m.vote_average, m.vote_count\n",
    "FROM genre_names gn\n",
    "JOIN movies m\n",
    "ON gn.movie_id = m.id\n",
    "WHERE m.vote_count != 0"
   ]
  },
  {
   "cell_type": "code",
   "execution_count": null,
   "metadata": {},
   "outputs": [],
   "source": [
    "import pandas as pd\n",
    "import matplotlib.pyplot as plt\n"
   ]
  },
  {
   "cell_type": "code",
   "execution_count": null,
   "metadata": {},
   "outputs": [],
   "source": [
    "df = %sql SELECT * FROM movie_genre_data\n",
    "df = df.DataFrame()\n",
    "df.head(2)\n"
   ]
  },
  {
   "cell_type": "code",
   "execution_count": null,
   "metadata": {},
   "outputs": [],
   "source": [
    "ax = %sqlplot histogram --table movie_genre_data --column popularity --bins 20\n",
    "ax.grid()\n",
    "ax.set_title(\"Movie Popularity\")\n",
    "ax.set_xlabel(\"Popularity\")\n"
   ]
  },
  {
   "cell_type": "code",
   "execution_count": null,
   "metadata": {},
   "outputs": [],
   "source": [
    "ax = %sqlplot histogram --table movie_genre_data --column vote_average --bins 20\n",
    "ax.grid()\n",
    "ax.set_title(\"Vote Average\")\n",
    "ax.set_xlabel(\"Vote Score\")\n"
   ]
  },
  {
   "cell_type": "code",
   "execution_count": null,
   "metadata": {},
   "outputs": [],
   "source": [
    "ax = %sqlplot histogram --table movie_genre_data --column vote_count --bins 20\n",
    "ax.grid()\n",
    "ax.set_title(\"Movie Vote Count\")\n",
    "ax.set_xlabel(\"Votes\")\n"
   ]
  },
  {
   "cell_type": "code",
   "execution_count": null,
   "metadata": {},
   "outputs": [],
   "source": [
    "df[\"release_date\"] = pd.to_datetime(df[\"release_date\"])\n",
    "\n",
    "df[\"release_year\"] = df[\"release_date\"].dt.year\n",
    "\n",
    "movie_counts_by_year = df.groupby(\"release_year\").size()\n",
    "\n",
    "plt.figure(figsize=(10, 6))\n",
    "plt.plot(movie_counts_by_year.index, movie_counts_by_year.values, marker=\"o\")\n",
    "plt.xlabel(\"Release Year\")\n",
    "plt.ylabel(\"Number of Movies Released\")\n",
    "plt.title(\"Number of Movies Released Per Year\")\n",
    "plt.tight_layout()\n",
    "plt.grid()\n",
    "plt.show()\n"
   ]
  },
  {
   "cell_type": "code",
   "execution_count": null,
   "metadata": {},
   "outputs": [],
   "source": [
    "def get_genre_count(df):\n",
    "    genre_counts = dict()\n",
    "\n",
    "    for genres in df[\"genre_names\"]:\n",
    "        genre_list = genres.split(\",\")\n",
    "        for genre in genre_list:\n",
    "            if genre not in genre_counts:\n",
    "                genre_counts[genre] = 1\n",
    "            genre_counts[genre] += 1\n",
    "    return genre_counts\n"
   ]
  },
  {
   "cell_type": "code",
   "execution_count": null,
   "metadata": {},
   "outputs": [],
   "source": [
    "df[\"genre_names\"] = df[\"genre_names\"].astype(str)"
   ]
  },
  {
   "cell_type": "code",
   "execution_count": null,
   "metadata": {},
   "outputs": [],
   "source": [
    "genre_counts = get_genre_count(df)\n",
    "\n",
    "sorted_genre_counts = dict(\n",
    "    sorted(genre_counts.items(), key=lambda item: item[1], reverse=True)\n",
    ")\n",
    "\n",
    "genres = list(sorted_genre_counts.keys())\n",
    "counts = list(sorted_genre_counts.values())\n",
    "\n",
    "plt.figure(figsize=(16, 7))\n",
    "plt.bar(genres, counts)\n",
    "plt.ylabel(\"Genres\")\n",
    "plt.xlabel(\"Counts\")\n",
    "plt.title(\"Genre Counts\")\n",
    "plt.tight_layout()\n",
    "plt.xticks(rotation=60, ha=\"right\")\n",
    "plt.grid()\n",
    "plt.show()\n"
   ]
  },
  {
   "cell_type": "code",
   "execution_count": null,
   "metadata": {},
   "outputs": [],
   "source": []
  }
 ],
 "metadata": {
  "kernelspec": {
   "display_name": "rec-sys",
   "language": "python",
   "name": "python3"
  },
  "language_info": {
   "codemirror_mode": {
    "name": "ipython",
    "version": 3
   },
   "file_extension": ".py",
   "mimetype": "text/x-python",
   "name": "python",
   "nbconvert_exporter": "python",
   "pygments_lexer": "ipython3",
   "version": "3.11.5"
  }
 },
 "nbformat": 4,
 "nbformat_minor": 2
}
